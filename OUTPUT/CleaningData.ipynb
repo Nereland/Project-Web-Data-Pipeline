{
 "cells": [
  {
   "cell_type": "markdown",
   "metadata": {},
   "source": [
    "## DATA CLEANING "
   ]
  },
  {
   "cell_type": "code",
   "execution_count": 1,
   "metadata": {},
   "outputs": [],
   "source": [
    "import pandas as pd \n",
    "import numpy as np\n",
    "#abro el documento\n",
    "df= pd.read_csv(\"INPUTS/originaldataCITES.csv\")\n"
   ]
  },
  {
   "cell_type": "code",
   "execution_count": 2,
   "metadata": {},
   "outputs": [
    {
     "data": {
      "text/plain": [
       "Index(['Year', 'App.', 'Taxon', 'Class', 'Order', 'Family', 'Genus',\n",
       "       'Importer', 'Exporter', 'Origin', 'Importer reported quantity',\n",
       "       'Exporter reported quantity', 'Term', 'Unit', 'Purpose', 'Source'],\n",
       "      dtype='object')"
      ]
     },
     "execution_count": 2,
     "metadata": {},
     "output_type": "execute_result"
    }
   ],
   "source": [
    "df\n",
    "df.columns"
   ]
  },
  {
   "cell_type": "code",
   "execution_count": 3,
   "metadata": {},
   "outputs": [],
   "source": [
    "df = df.drop(columns= [\"App.\", \"Order\", \"Family\", \"Genus\", \"Importer reported quantity\", \"Exporter reported quantity\", \"Term\", \"Origin\", \"Unit\"])"
   ]
  },
  {
   "cell_type": "code",
   "execution_count": 4,
   "metadata": {
    "scrolled": true
   },
   "outputs": [
    {
     "data": {
      "text/html": [
       "<div>\n",
       "<style scoped>\n",
       "    .dataframe tbody tr th:only-of-type {\n",
       "        vertical-align: middle;\n",
       "    }\n",
       "\n",
       "    .dataframe tbody tr th {\n",
       "        vertical-align: top;\n",
       "    }\n",
       "\n",
       "    .dataframe thead th {\n",
       "        text-align: right;\n",
       "    }\n",
       "</style>\n",
       "<table border=\"1\" class=\"dataframe\">\n",
       "  <thead>\n",
       "    <tr style=\"text-align: right;\">\n",
       "      <th></th>\n",
       "      <th>Year</th>\n",
       "      <th>Taxon</th>\n",
       "      <th>Class</th>\n",
       "      <th>Importer</th>\n",
       "      <th>Exporter</th>\n",
       "      <th>Purpose</th>\n",
       "      <th>Source</th>\n",
       "    </tr>\n",
       "  </thead>\n",
       "  <tbody>\n",
       "    <tr>\n",
       "      <th>0</th>\n",
       "      <td>2016</td>\n",
       "      <td>Aquila heliaca</td>\n",
       "      <td>Aves</td>\n",
       "      <td>TR</td>\n",
       "      <td>NL</td>\n",
       "      <td>T</td>\n",
       "      <td>C</td>\n",
       "    </tr>\n",
       "    <tr>\n",
       "      <th>1</th>\n",
       "      <td>2016</td>\n",
       "      <td>Aquila heliaca</td>\n",
       "      <td>Aves</td>\n",
       "      <td>XV</td>\n",
       "      <td>RS</td>\n",
       "      <td>Q</td>\n",
       "      <td>O</td>\n",
       "    </tr>\n",
       "    <tr>\n",
       "      <th>2</th>\n",
       "      <td>2016</td>\n",
       "      <td>Haliaeetus albicilla</td>\n",
       "      <td>Aves</td>\n",
       "      <td>BE</td>\n",
       "      <td>NO</td>\n",
       "      <td>S</td>\n",
       "      <td>W</td>\n",
       "    </tr>\n",
       "    <tr>\n",
       "      <th>3</th>\n",
       "      <td>2016</td>\n",
       "      <td>Haliaeetus albicilla</td>\n",
       "      <td>Aves</td>\n",
       "      <td>BE</td>\n",
       "      <td>NO</td>\n",
       "      <td>S</td>\n",
       "      <td>W</td>\n",
       "    </tr>\n",
       "    <tr>\n",
       "      <th>4</th>\n",
       "      <td>2016</td>\n",
       "      <td>Haliaeetus albicilla</td>\n",
       "      <td>Aves</td>\n",
       "      <td>DK</td>\n",
       "      <td>IS</td>\n",
       "      <td>S</td>\n",
       "      <td>W</td>\n",
       "    </tr>\n",
       "    <tr>\n",
       "      <th>...</th>\n",
       "      <td>...</td>\n",
       "      <td>...</td>\n",
       "      <td>...</td>\n",
       "      <td>...</td>\n",
       "      <td>...</td>\n",
       "      <td>...</td>\n",
       "      <td>...</td>\n",
       "    </tr>\n",
       "    <tr>\n",
       "      <th>67156</th>\n",
       "      <td>2017</td>\n",
       "      <td>Canis aureus</td>\n",
       "      <td>Mammalia</td>\n",
       "      <td>US</td>\n",
       "      <td>ET</td>\n",
       "      <td>H</td>\n",
       "      <td>W</td>\n",
       "    </tr>\n",
       "    <tr>\n",
       "      <th>67157</th>\n",
       "      <td>2017</td>\n",
       "      <td>Sarcoramphus papa</td>\n",
       "      <td>Aves</td>\n",
       "      <td>JP</td>\n",
       "      <td>PE</td>\n",
       "      <td>T</td>\n",
       "      <td>F</td>\n",
       "    </tr>\n",
       "    <tr>\n",
       "      <th>67158</th>\n",
       "      <td>2017</td>\n",
       "      <td>Daboia russelii</td>\n",
       "      <td>Reptilia</td>\n",
       "      <td>RS</td>\n",
       "      <td>IT</td>\n",
       "      <td>T</td>\n",
       "      <td>F</td>\n",
       "    </tr>\n",
       "    <tr>\n",
       "      <th>67159</th>\n",
       "      <td>2017</td>\n",
       "      <td>Civettictis civetta</td>\n",
       "      <td>Mammalia</td>\n",
       "      <td>FR</td>\n",
       "      <td>ET</td>\n",
       "      <td>T</td>\n",
       "      <td>R</td>\n",
       "    </tr>\n",
       "    <tr>\n",
       "      <th>67160</th>\n",
       "      <td>2017</td>\n",
       "      <td>Civettictis civetta</td>\n",
       "      <td>Mammalia</td>\n",
       "      <td>KR</td>\n",
       "      <td>ET</td>\n",
       "      <td>T</td>\n",
       "      <td>R</td>\n",
       "    </tr>\n",
       "  </tbody>\n",
       "</table>\n",
       "<p>67161 rows × 7 columns</p>\n",
       "</div>"
      ],
      "text/plain": [
       "       Year                 Taxon     Class Importer Exporter Purpose Source\n",
       "0      2016        Aquila heliaca      Aves       TR       NL       T      C\n",
       "1      2016        Aquila heliaca      Aves       XV       RS       Q      O\n",
       "2      2016  Haliaeetus albicilla      Aves       BE       NO       S      W\n",
       "3      2016  Haliaeetus albicilla      Aves       BE       NO       S      W\n",
       "4      2016  Haliaeetus albicilla      Aves       DK       IS       S      W\n",
       "...     ...                   ...       ...      ...      ...     ...    ...\n",
       "67156  2017          Canis aureus  Mammalia       US       ET       H      W\n",
       "67157  2017     Sarcoramphus papa      Aves       JP       PE       T      F\n",
       "67158  2017       Daboia russelii  Reptilia       RS       IT       T      F\n",
       "67159  2017   Civettictis civetta  Mammalia       FR       ET       T      R\n",
       "67160  2017   Civettictis civetta  Mammalia       KR       ET       T      R\n",
       "\n",
       "[67161 rows x 7 columns]"
      ]
     },
     "metadata": {},
     "output_type": "display_data"
    }
   ],
   "source": [
    "display(df)"
   ]
  },
  {
   "cell_type": "code",
   "execution_count": 5,
   "metadata": {},
   "outputs": [
    {
     "data": {
      "text/plain": [
       "Year            0\n",
       "Taxon           0\n",
       "Importer       71\n",
       "Source        544\n",
       "Exporter      573\n",
       "Purpose      6059\n",
       "Class       20224\n",
       "dtype: int64"
      ]
     },
     "execution_count": 5,
     "metadata": {},
     "output_type": "execute_result"
    }
   ],
   "source": [
    "df.isnull().sum().sort_values(ascending=True)"
   ]
  },
  {
   "cell_type": "code",
   "execution_count": 6,
   "metadata": {},
   "outputs": [],
   "source": [
    "df.drop(df[df['Source'] == \"A\"].index, inplace = True)\n",
    "df.drop(df[df['Purpose'] == \"G\"].index, inplace = True)\n",
    "\n",
    "df.dropna(subset=['Exporter'], inplace=True)\n",
    "df.dropna(subset=['Importer'], inplace=True)\n",
    "df.dropna(subset=['Purpose'], inplace=True)\n",
    "df.dropna(subset=['Source'], inplace=True)\n",
    "df.dropna(subset=['Class'], inplace=True)"
   ]
  },
  {
   "cell_type": "code",
   "execution_count": 7,
   "metadata": {},
   "outputs": [
    {
     "data": {
      "text/plain": [
       "(45835, 7)"
      ]
     },
     "execution_count": 7,
     "metadata": {},
     "output_type": "execute_result"
    }
   ],
   "source": [
    "df.shape"
   ]
  },
  {
   "cell_type": "code",
   "execution_count": 8,
   "metadata": {},
   "outputs": [
    {
     "data": {
      "text/plain": [
       "Year        0\n",
       "Taxon       0\n",
       "Class       0\n",
       "Importer    0\n",
       "Exporter    0\n",
       "Purpose     0\n",
       "Source      0\n",
       "dtype: int64"
      ]
     },
     "execution_count": 8,
     "metadata": {},
     "output_type": "execute_result"
    }
   ],
   "source": [
    "df.isnull().sum().sort_values(ascending=True)"
   ]
  },
  {
   "cell_type": "code",
   "execution_count": 9,
   "metadata": {},
   "outputs": [
    {
     "data": {
      "text/plain": [
       "(45835, 7)"
      ]
     },
     "execution_count": 9,
     "metadata": {},
     "output_type": "execute_result"
    }
   ],
   "source": [
    "df.shape"
   ]
  },
  {
   "cell_type": "code",
   "execution_count": 10,
   "metadata": {},
   "outputs": [
    {
     "data": {
      "text/plain": [
       "T    33475\n",
       "P     5311\n",
       "S     2057\n",
       "H     1770\n",
       "M      862\n",
       "Q      834\n",
       "Z      775\n",
       "B      330\n",
       "E      295\n",
       "L       80\n",
       "N       46\n",
       "Name: Purpose, dtype: int64"
      ]
     },
     "execution_count": 10,
     "metadata": {},
     "output_type": "execute_result"
    }
   ],
   "source": [
    "df.Purpose.value_counts()\n"
   ]
  },
  {
   "cell_type": "code",
   "execution_count": 11,
   "metadata": {},
   "outputs": [
    {
     "data": {
      "text/plain": [
       "Year        0\n",
       "Taxon       0\n",
       "Class       0\n",
       "Importer    0\n",
       "Exporter    0\n",
       "Purpose     0\n",
       "Source      0\n",
       "dtype: int64"
      ]
     },
     "execution_count": 11,
     "metadata": {},
     "output_type": "execute_result"
    }
   ],
   "source": [
    "df.isnull().sum().sort_values(ascending=True)"
   ]
  },
  {
   "cell_type": "code",
   "execution_count": 12,
   "metadata": {},
   "outputs": [
    {
     "data": {
      "text/plain": [
       "W    42.0\n",
       "C    35.0\n",
       "F    10.0\n",
       "I     4.0\n",
       "R     4.0\n",
       "Name: Source, dtype: float64"
      ]
     },
     "execution_count": 12,
     "metadata": {},
     "output_type": "execute_result"
    }
   ],
   "source": [
    "round(df['Source'].value_counts(normalize=True) * 100).head()\n"
   ]
  },
  {
   "cell_type": "code",
   "execution_count": 13,
   "metadata": {},
   "outputs": [
    {
     "data": {
      "text/plain": [
       "(45835, 7)"
      ]
     },
     "execution_count": 13,
     "metadata": {},
     "output_type": "execute_result"
    }
   ],
   "source": [
    "df.shape\n"
   ]
  },
  {
   "cell_type": "code",
   "execution_count": 18,
   "metadata": {},
   "outputs": [
    {
     "data": {
      "text/plain": [
       "Crocodylus niloticus          5.0\n",
       "Python reticulatus            5.0\n",
       "Alligator mississippiensis    4.0\n",
       "Crocodylus porosus            3.0\n",
       "Varanus salvator              2.0\n",
       "Name: Taxon, dtype: float64"
      ]
     },
     "execution_count": 18,
     "metadata": {},
     "output_type": "execute_result"
    }
   ],
   "source": [
    "pd.set_option('display.max_rows', None)\n",
    "round(df['Taxon'].value_counts(normalize=True) * 100).head()\n"
   ]
  },
  {
   "cell_type": "code",
   "execution_count": 19,
   "metadata": {},
   "outputs": [
    {
     "data": {
      "text/plain": [
       "Reptilia       39.0\n",
       "Anthozoa       19.0\n",
       "Mammalia       17.0\n",
       "Aves           15.0\n",
       "Actinopteri     6.0\n",
       "Name: Class, dtype: float64"
      ]
     },
     "execution_count": 19,
     "metadata": {},
     "output_type": "execute_result"
    }
   ],
   "source": [
    "round(df['Class'].value_counts(normalize=True) * 100).head()\n"
   ]
  },
  {
   "cell_type": "code",
   "execution_count": 21,
   "metadata": {},
   "outputs": [
    {
     "data": {
      "text/plain": [
       "US    17.0\n",
       "JP     6.0\n",
       "HK     4.0\n",
       "CN     4.0\n",
       "FR     3.0\n",
       "DE     3.0\n",
       "CH     3.0\n",
       "AE     3.0\n",
       "CA     2.0\n",
       "SG     2.0\n",
       "KR     2.0\n",
       "IT     2.0\n",
       "GB     2.0\n",
       "TW     2.0\n",
       "RU     2.0\n",
       "TR     2.0\n",
       "MY     1.0\n",
       "QA     1.0\n",
       "ES     1.0\n",
       "MX     1.0\n",
       "NO     1.0\n",
       "NL     1.0\n",
       "TH     1.0\n",
       "NZ     1.0\n",
       "DK     1.0\n",
       "ZA     1.0\n",
       "KW     1.0\n",
       "AT     1.0\n",
       "AU     1.0\n",
       "PH     1.0\n",
       "BR     1.0\n",
       "XX     1.0\n",
       "UA     1.0\n",
       "BE     1.0\n",
       "ID     1.0\n",
       "SA     1.0\n",
       "IL     1.0\n",
       "CL     1.0\n",
       "CZ     1.0\n",
       "BH     1.0\n",
       "OM     1.0\n",
       "AR     1.0\n",
       "IR     1.0\n",
       "LB     1.0\n",
       "MO     1.0\n",
       "VN     1.0\n",
       "IN     0.0\n",
       "PL     0.0\n",
       "KZ     0.0\n",
       "SE     0.0\n",
       "MC     0.0\n",
       "PK     0.0\n",
       "BD     0.0\n",
       "JO     0.0\n",
       "AZ     0.0\n",
       "MA     0.0\n",
       "GR     0.0\n",
       "GT     0.0\n",
       "UZ     0.0\n",
       "SM     0.0\n",
       "PE     0.0\n",
       "PA     0.0\n",
       "CR     0.0\n",
       "EG     0.0\n",
       "PT     0.0\n",
       "KP     0.0\n",
       "RS     0.0\n",
       "HU     0.0\n",
       "IE     0.0\n",
       "BG     0.0\n",
       "AM     0.0\n",
       "SN     0.0\n",
       "GE     0.0\n",
       "RO     0.0\n",
       "BL     0.0\n",
       "NP     0.0\n",
       "TN     0.0\n",
       "SK     0.0\n",
       "TT     0.0\n",
       "DO     0.0\n",
       "CO     0.0\n",
       "MG     0.0\n",
       "KG     0.0\n",
       "BY     0.0\n",
       "BB     0.0\n",
       "BS     0.0\n",
       "CY     0.0\n",
       "IQ     0.0\n",
       "TM     0.0\n",
       "FI     0.0\n",
       "KH     0.0\n",
       "LT     0.0\n",
       "AD     0.0\n",
       "DZ     0.0\n",
       "NG     0.0\n",
       "BN     0.0\n",
       "MU     0.0\n",
       "MD     0.0\n",
       "UY     0.0\n",
       "AO     0.0\n",
       "LA     0.0\n",
       "XV     0.0\n",
       "AW     0.0\n",
       "MV     0.0\n",
       "CW     0.0\n",
       "AL     0.0\n",
       "JE     0.0\n",
       "KE     0.0\n",
       "IS     0.0\n",
       "VE     0.0\n",
       "LU     0.0\n",
       "PY     0.0\n",
       "LY     0.0\n",
       "KY     0.0\n",
       "PF     0.0\n",
       "CI     0.0\n",
       "SI     0.0\n",
       "GU     0.0\n",
       "LV     0.0\n",
       "EC     0.0\n",
       "LK     0.0\n",
       "MN     0.0\n",
       "UG     0.0\n",
       "MK     0.0\n",
       "SV     0.0\n",
       "GG     0.0\n",
       "AN     0.0\n",
       "ME     0.0\n",
       "CG     0.0\n",
       "SX     0.0\n",
       "ZW     0.0\n",
       "SR     0.0\n",
       "EE     0.0\n",
       "CD     0.0\n",
       "GH     0.0\n",
       "NC     0.0\n",
       "BM     0.0\n",
       "VG     0.0\n",
       "MZ     0.0\n",
       "NI     0.0\n",
       "MM     0.0\n",
       "CM     0.0\n",
       "GI     0.0\n",
       "LI     0.0\n",
       "TJ     0.0\n",
       "PR     0.0\n",
       "BA     0.0\n",
       "HN     0.0\n",
       "GA     0.0\n",
       "ET     0.0\n",
       "MW     0.0\n",
       "CU     0.0\n",
       "GL     0.0\n",
       "ZM     0.0\n",
       "JM     0.0\n",
       "HR     0.0\n",
       "SU     0.0\n",
       "TZ     0.0\n",
       "MP     0.0\n",
       "KN     0.0\n",
       "SZ     0.0\n",
       "FO     0.0\n",
       "IM     0.0\n",
       "LC     0.0\n",
       "SD     0.0\n",
       "VA     0.0\n",
       "SC     0.0\n",
       "FJ     0.0\n",
       "YU     0.0\n",
       "GP     0.0\n",
       "MR     0.0\n",
       "TG     0.0\n",
       "HT     0.0\n",
       "BW     0.0\n",
       "CC     0.0\n",
       "MT     0.0\n",
       "SY     0.0\n",
       "RE     0.0\n",
       "BJ     0.0\n",
       "NE     0.0\n",
       "ML     0.0\n",
       "PG     0.0\n",
       "BZ     0.0\n",
       "RW     0.0\n",
       "ER     0.0\n",
       "BO     0.0\n",
       "AG     0.0\n",
       "TD     0.0\n",
       "TF     0.0\n",
       "TK     0.0\n",
       "GN     0.0\n",
       "LR     0.0\n",
       "VI     0.0\n",
       "DJ     0.0\n",
       "TL     0.0\n",
       "GQ     0.0\n",
       "GY     0.0\n",
       "DM     0.0\n",
       "AF     0.0\n",
       "MF     0.0\n",
       "YE     0.0\n",
       "GD     0.0\n",
       "CF     0.0\n",
       "MQ     0.0\n",
       "TC     0.0\n",
       "Name: Importer, dtype: float64"
      ]
     },
     "execution_count": 21,
     "metadata": {},
     "output_type": "execute_result"
    }
   ],
   "source": [
    "round(df['Importer'].value_counts(normalize=True) * 100)\n"
   ]
  },
  {
   "cell_type": "code",
   "execution_count": 22,
   "metadata": {},
   "outputs": [
    {
     "data": {
      "text/plain": [
       "ID    14.0\n",
       "IT    11.0\n",
       "US     8.0\n",
       "FR     7.0\n",
       "DE     4.0\n",
       "AU     3.0\n",
       "SG     3.0\n",
       "CH     3.0\n",
       "NL     3.0\n",
       "CA     2.0\n",
       "ZA     2.0\n",
       "GB     2.0\n",
       "BE     2.0\n",
       "ES     2.0\n",
       "AE     2.0\n",
       "HK     2.0\n",
       "CN     2.0\n",
       "JP     1.0\n",
       "ZW     1.0\n",
       "FJ     1.0\n",
       "CZ     1.0\n",
       "MG     1.0\n",
       "MC     1.0\n",
       "MY     1.0\n",
       "MX     1.0\n",
       "AT     1.0\n",
       "GY     1.0\n",
       "KW     1.0\n",
       "TO     1.0\n",
       "PE     1.0\n",
       "PH     1.0\n",
       "KR     1.0\n",
       "DK     1.0\n",
       "AR     1.0\n",
       "TR     0.0\n",
       "TH     0.0\n",
       "RU     0.0\n",
       "VN     0.0\n",
       "QA     0.0\n",
       "PT     0.0\n",
       "TZ     0.0\n",
       "TW     0.0\n",
       "ZM     0.0\n",
       "KE     0.0\n",
       "GL     0.0\n",
       "SR     0.0\n",
       "OM     0.0\n",
       "BR     0.0\n",
       "UZ     0.0\n",
       "NO     0.0\n",
       "NZ     0.0\n",
       "SE     0.0\n",
       "UA     0.0\n",
       "SB     0.0\n",
       "GR     0.0\n",
       "UY     0.0\n",
       "LU     0.0\n",
       "MZ     0.0\n",
       "KZ     0.0\n",
       "JE     0.0\n",
       "CO     0.0\n",
       "NI     0.0\n",
       "MH     0.0\n",
       "PW     0.0\n",
       "RS     0.0\n",
       "PL     0.0\n",
       "CU     0.0\n",
       "UG     0.0\n",
       "TG     0.0\n",
       "ET     0.0\n",
       "FM     0.0\n",
       "ML     0.0\n",
       "SV     0.0\n",
       "GH     0.0\n",
       "BS     0.0\n",
       "XX     0.0\n",
       "BH     0.0\n",
       "HU     0.0\n",
       "MO     0.0\n",
       "AM     0.0\n",
       "MN     0.0\n",
       "LV     0.0\n",
       "BB     0.0\n",
       "MU     0.0\n",
       "JM     0.0\n",
       "SI     0.0\n",
       "BY     0.0\n",
       "CI     0.0\n",
       "CD     0.0\n",
       "FI     0.0\n",
       "EE     0.0\n",
       "SA     0.0\n",
       "KH     0.0\n",
       "MA     0.0\n",
       "LB     0.0\n",
       "TN     0.0\n",
       "IN     0.0\n",
       "SD     0.0\n",
       "PK     0.0\n",
       "PA     0.0\n",
       "DO     0.0\n",
       "BM     0.0\n",
       "IL     0.0\n",
       "SK     0.0\n",
       "RO     0.0\n",
       "CM     0.0\n",
       "BG     0.0\n",
       "IE     0.0\n",
       "CW     0.0\n",
       "CK     0.0\n",
       "BO     0.0\n",
       "CR     0.0\n",
       "SN     0.0\n",
       "MK     0.0\n",
       "SC     0.0\n",
       "CL     0.0\n",
       "KG     0.0\n",
       "ZZ     0.0\n",
       "LT     0.0\n",
       "BJ     0.0\n",
       "HT     0.0\n",
       "VE     0.0\n",
       "RW     0.0\n",
       "PG     0.0\n",
       "KY     0.0\n",
       "MW     0.0\n",
       "SM     0.0\n",
       "BZ     0.0\n",
       "IR     0.0\n",
       "CG     0.0\n",
       "IS     0.0\n",
       "LK     0.0\n",
       "KN     0.0\n",
       "HR     0.0\n",
       "GG     0.0\n",
       "LA     0.0\n",
       "GE     0.0\n",
       "VG     0.0\n",
       "MT     0.0\n",
       "TT     0.0\n",
       "TJ     0.0\n",
       "JO     0.0\n",
       "NG     0.0\n",
       "TC     0.0\n",
       "EC     0.0\n",
       "GA     0.0\n",
       "LR     0.0\n",
       "CF     0.0\n",
       "AG     0.0\n",
       "GQ     0.0\n",
       "IO     0.0\n",
       "SY     0.0\n",
       "MD     0.0\n",
       "FK     0.0\n",
       "AZ     0.0\n",
       "AO     0.0\n",
       "AQ     0.0\n",
       "PF     0.0\n",
       "SX     0.0\n",
       "NP     0.0\n",
       "DM     0.0\n",
       "HN     0.0\n",
       "LC     0.0\n",
       "PY     0.0\n",
       "EG     0.0\n",
       "GD     0.0\n",
       "AL     0.0\n",
       "SH     0.0\n",
       "YE     0.0\n",
       "BL     0.0\n",
       "GS     0.0\n",
       "VU     0.0\n",
       "MM     0.0\n",
       "GN     0.0\n",
       "VC     0.0\n",
       "AD     0.0\n",
       "ST     0.0\n",
       "GT     0.0\n",
       "AW     0.0\n",
       "TD     0.0\n",
       "KI     0.0\n",
       "IQ     0.0\n",
       "BW     0.0\n",
       "CV     0.0\n",
       "NC     0.0\n",
       "CY     0.0\n",
       "ER     0.0\n",
       "BD     0.0\n",
       "MV     0.0\n",
       "BI     0.0\n",
       "KM     0.0\n",
       "LI     0.0\n",
       "SL     0.0\n",
       "NE     0.0\n",
       "TK     0.0\n",
       "DD     0.0\n",
       "IM     0.0\n",
       "FO     0.0\n",
       "AN     0.0\n",
       "SZ     0.0\n",
       "GP     0.0\n",
       "WS     0.0\n",
       "LS     0.0\n",
       "GI     0.0\n",
       "Name: Exporter, dtype: float64"
      ]
     },
     "execution_count": 22,
     "metadata": {},
     "output_type": "execute_result"
    }
   ],
   "source": [
    "round(df['Exporter'].value_counts(normalize=True) * 100)"
   ]
  },
  {
   "cell_type": "code",
   "execution_count": 38,
   "metadata": {},
   "outputs": [
    {
     "data": {
      "text/plain": [
       "T    73.0\n",
       "P    12.0\n",
       "S     4.0\n",
       "H     4.0\n",
       "M     2.0\n",
       "Name: Purpose, dtype: float64"
      ]
     },
     "execution_count": 38,
     "metadata": {},
     "output_type": "execute_result"
    }
   ],
   "source": [
    "round(df['Purpose'].value_counts(normalize=True) * 100).head()\n"
   ]
  },
  {
   "cell_type": "code",
   "execution_count": 39,
   "metadata": {},
   "outputs": [
    {
     "data": {
      "text/plain": [
       "W    42.0\n",
       "C    35.0\n",
       "F    10.0\n",
       "I     4.0\n",
       "R     4.0\n",
       "Name: Source, dtype: float64"
      ]
     },
     "execution_count": 39,
     "metadata": {},
     "output_type": "execute_result"
    }
   ],
   "source": [
    "round(df['Source'].value_counts(normalize=True) * 100).head()\n"
   ]
  },
  {
   "cell_type": "code",
   "execution_count": 40,
   "metadata": {},
   "outputs": [],
   "source": [
    "df.to_csv(\"output/CITES.csv\")\n"
   ]
  },
  {
   "cell_type": "code",
   "execution_count": null,
   "metadata": {},
   "outputs": [],
   "source": []
  },
  {
   "cell_type": "code",
   "execution_count": null,
   "metadata": {},
   "outputs": [],
   "source": []
  },
  {
   "cell_type": "code",
   "execution_count": null,
   "metadata": {},
   "outputs": [],
   "source": []
  }
 ],
 "metadata": {
  "kernelspec": {
   "display_name": "Python 3",
   "language": "python",
   "name": "python3"
  },
  "language_info": {
   "codemirror_mode": {
    "name": "ipython",
    "version": 3
   },
   "file_extension": ".py",
   "mimetype": "text/x-python",
   "name": "python",
   "nbconvert_exporter": "python",
   "pygments_lexer": "ipython3",
   "version": "3.8.2"
  }
 },
 "nbformat": 4,
 "nbformat_minor": 4
}
